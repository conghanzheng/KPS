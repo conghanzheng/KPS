{
 "cells": [
  {
   "attachments": {},
   "cell_type": "markdown",
   "metadata": {},
   "source": [
    "# Data Structure\n",
    "\n",
    "- $p$: industries, $1, \\dots, 5$\n",
    "- $k$: regions, $1, \\dots, 7$\n",
    "- $t$: time periods\n",
    "- Each single observation is indexed by $(p,k)$: your variable $x_i$ is observed for all individuals across all regions and is a $5 \\times 7$ matrix."
   ]
  },
  {
   "attachments": {},
   "cell_type": "markdown",
   "metadata": {},
   "source": [
    "# Test Statistic\n",
    "\n",
    "First, we generate the matrix $R$ defined in equation (1) of the papers. We go with some random data. "
   ]
  },
  {
   "cell_type": "code",
   "execution_count": 150,
   "metadata": {},
   "outputs": [],
   "source": [
    "import importlib\n",
    "\n",
    "if importlib.util.find_spec('numpy') is None:\n",
    "    !pip3 install numpy\n",
    "\n",
    "if importlib.util.find_spec('scipy') is None:\n",
    "    !pip3 install scipy\n",
    "\n",
    "import numpy as np\n",
    "from scipy.stats import chi2"
   ]
  },
  {
   "cell_type": "code",
   "execution_count": 151,
   "metadata": {},
   "outputs": [],
   "source": [
    "t = 1\n",
    "toydata = True\n",
    "\n",
    "f_sq = 0\n",
    "\n",
    "for i in range(t):\n",
    "    if toydata == True:\n",
    "        Vi = np.random.rand(2, 1)\n",
    "        Zi = np.random.rand(3, 1)\n",
    "        fi = np.kron(Vi,Zi) # pk*1\n",
    "        p = np.shape(Vi)[0]\n",
    "        k = np.shape(Zi)[0]\n",
    "    else: ## ! Change xi to your data input\n",
    "        xi = np.random.rand(2, 3) # p*k\n",
    "        p = np.shape(xi)[0]\n",
    "        k = np.shape(xi)[1]\n",
    "        fi = np.reshape(xi.flatten(order='F'), (p*k, 1)) # pk*1\n",
    "        print(np.shape(fi))\n",
    "    f_sq += np.dot(fi,fi.T) # pk*pk\n",
    "\n",
    "R = f_sq/n # pk*pk"
   ]
  },
  {
   "attachments": {},
   "cell_type": "markdown",
   "metadata": {},
   "source": [
    "Then we stack $R$ to $\\mathcal{R}(R)$ defined in equation (5)."
   ]
  },
  {
   "cell_type": "code",
   "execution_count": 152,
   "metadata": {},
   "outputs": [],
   "source": [
    "R_cal = np.empty([p ** 2, k ** 2])\n",
    "for i in range(1,p+1):\n",
    "    for j in range(1,p+1):\n",
    "        block_ij = R[((i-1)*k):(i*k), ((j-1)*k):(j*k)] # k*k     \n",
    "        vector_ij = block_ij.flatten(order='F') # k^2*1\n",
    "        R_cal[(j-1)*p+i-1,:] = vector_ij # the p-th row"
   ]
  },
  {
   "attachments": {},
   "cell_type": "markdown",
   "metadata": {},
   "source": [
    "from which we can perform the singular value decomposition (equation (9) in the paper):"
   ]
  },
  {
   "cell_type": "code",
   "execution_count": 153,
   "metadata": {},
   "outputs": [],
   "source": [
    "L, Sigma_v, Nt = np.linalg.svd(R_cal)\n",
    "Sigma = np.diag(Sigma_v)\n",
    "N = Nt.T\n",
    "\n",
    "length = max(np.shape(L),np.shape(N))[0]\n",
    "width = min(np.shape(L),np.shape(N))[0]\n",
    "diff = length - width \n",
    "\n",
    "happend = np.zeros([np.shape(Sigma)[0], diff])\n",
    "vappend = np.zeros([diff, np.shape(Sigma)[0]])\n",
    "\n",
    "if np.shape(L)[0] > np.shape(N)[0]:\n",
    "  Sigma = np.vstack((Sigma, vappend))\n",
    "elif np.shape(L)[0] < np.shape(N)[0]:\n",
    "  Sigma = np.hstack((Sigma, happend))"
   ]
  },
  {
   "attachments": {},
   "cell_type": "markdown",
   "metadata": {},
   "source": [
    "and obtain the components of the KPST"
   ]
  },
  {
   "cell_type": "code",
   "execution_count": 154,
   "metadata": {},
   "outputs": [],
   "source": [
    "L2 = np.delete(L, 0, 1)\n",
    "Sigma2 = np.delete(Sigma, 0, 1)\n",
    "Sigma2 = np.delete(Sigma2, 0, 0)\n",
    "N2 = np.delete(N, 0, 1)\n",
    "\n",
    "vec_R_cal = R_cal.flatten(order='F')\n",
    "V = np.outer(vec_R_cal.T,vec_R_cal.T)"
   ]
  },
  {
   "attachments": {},
   "cell_type": "markdown",
   "metadata": {},
   "source": [
    "Now we can calculate KPST based on equation (22):"
   ]
  },
  {
   "cell_type": "code",
   "execution_count": 155,
   "metadata": {},
   "outputs": [],
   "source": [
    "K1 = Sigma2.flatten(order='F') \n",
    "\n",
    "K2 = np.kron(N2,L2).T@V@np.kron(N2,L2)\n",
    "\n",
    "KPST = n* K1.T @np.linalg.inv(K2) @K1"
   ]
  },
  {
   "attachments": {},
   "cell_type": "markdown",
   "metadata": {},
   "source": [
    "# Example"
   ]
  },
  {
   "attachments": {},
   "cell_type": "markdown",
   "metadata": {},
   "source": [
    "Now we have the KPST statistic in hand, we compare it with $\\chi^2(df,1-\\alpha)$, where the degree of freedom $df$ is calculated using equation (25)."
   ]
  },
  {
   "cell_type": "code",
   "execution_count": 156,
   "metadata": {},
   "outputs": [],
   "source": [
    "## 1. Put all the previous steps in a function\n",
    "\n",
    "def kpst(p=5,k=7,n=1):\n",
    "   \n",
    "   f_sq = 0\n",
    "   \n",
    "   for i in range(n):\n",
    "      Vi = np.random.rand(p, 1)\n",
    "      Zi = np.random.rand(k, 1)\n",
    "      fi = np.kron(Vi,Zi) # 35*1\n",
    "      f_sq += np.dot(fi,fi.T) # 35*35\n",
    "  \n",
    "   R = f_sq/n # 35*35\n",
    "   \n",
    "   R_cal = np.empty([p ** 2, k ** 2])\n",
    "   \n",
    "   for i in range(1,p):\n",
    "    for j in range(1,p):\n",
    "        block_ij = R[((i-1)*k):(i*k), ((j-1)*k):(j*k)] # k*k     \n",
    "        vector_ij = block_ij.flatten(order='F') # k^2*1\n",
    "        R_cal[(j-1)*p+i-1,:] = vector_ij # the p-th row\n",
    "        \n",
    "   L, Sigma_v, Nt = np.linalg.svd(R_cal)\n",
    "   Sigma = np.diag(Sigma_v)\n",
    "   N = Nt.T\n",
    "   \n",
    "   length = max(np.shape(L),np.shape(N))[0]\n",
    "   width = min(np.shape(L),np.shape(N))[0]\n",
    "   diff = length - width \n",
    "   \n",
    "   happend = np.zeros([diff+1, diff])\n",
    "   vappend = np.zeros([diff, diff+1])\n",
    "   \n",
    "   if np.shape(L)[0] > np.shape(N)[0]:\n",
    "    Sigma = np.vstack((Sigma, vappend))\n",
    "   elif np.shape(L)[0] < np.shape(N)[0]:\n",
    "    Sigma = np.hstack((Sigma, happend))\n",
    "  \n",
    "   L2 = np.delete(L, 0, 1)\n",
    "   Sigma2 = np.delete(Sigma, 0, 1)\n",
    "   Sigma2 = np.delete(Sigma2, 0, 0)\n",
    "   N2 = np.delete(N, 0, 1)\n",
    "   vec_R_cal = R_cal.flatten(order='F')\n",
    "   V = np.outer(vec_R_cal.T,vec_R_cal.T)\n",
    "\n",
    "   K1 = Sigma2.flatten(order='F') \n",
    "   K2 = np.kron(N2,L2).T@V@np.kron(N2,L2)\n",
    "   KPST = n* K1.T @np.linalg.inv(K2) @K1\n",
    "   return KPST\n",
    "\n",
    "## 2. Function that returns the degree of freedom\n",
    "def dof(p,k):\n",
    "  dof = (0.5*k*(k+1)-1)*(0.5*p*(p+1)-1)\n",
    "  return dof"
   ]
  },
  {
   "attachments": {},
   "cell_type": "markdown",
   "metadata": {},
   "source": [
    "Let's try performing the test:"
   ]
  },
  {
   "cell_type": "code",
   "execution_count": 157,
   "metadata": {},
   "outputs": [
    {
     "name": "stdout",
     "output_type": "stream",
     "text": [
      "We reject the null that R has KPS at nominal size 0.05. We conclude that R doesn't has KPS.\n"
     ]
    }
   ],
   "source": [
    "kpst_obs = []\n",
    "\n",
    "## Use a loop to deal with the case of not-inversible matrix\n",
    "while len(kpst_obs) < 1:\n",
    "    new_value = kpst(p=5,k=7,n=1)\n",
    "    if ~np.isnan(new_value):\n",
    "        kpst_obs.append(new_value) \n",
    "\n",
    "## But there is still possibility of non-convergence of SVD, just rerun the code on error\n",
    "\n",
    "## Test\n",
    "if kpst_obs[0] < chi2.ppf(1-.05, dof(p=5,k=7)):\n",
    "    print(\"We can't reject the null that R has KPS at nominal size 0.05. We conclude that R has KPS.\")\n",
    "else: \n",
    "    print(\"We reject the null that R has KPS at nominal size 0.05. We conclude that R doesn't has KPS.\")"
   ]
  }
 ],
 "metadata": {
  "kernelspec": {
   "display_name": "Python 3",
   "language": "python",
   "name": "python3"
  },
  "language_info": {
   "codemirror_mode": {
    "name": "ipython",
    "version": 3
   },
   "file_extension": ".py",
   "mimetype": "text/x-python",
   "name": "python",
   "nbconvert_exporter": "python",
   "pygments_lexer": "ipython3",
   "version": "3.11.2"
  },
  "orig_nbformat": 4
 },
 "nbformat": 4,
 "nbformat_minor": 2
}
