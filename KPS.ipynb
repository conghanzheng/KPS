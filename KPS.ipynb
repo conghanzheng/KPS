{
 "cells": [
  {
   "attachments": {},
   "cell_type": "markdown",
   "metadata": {},
   "source": [
    "# Data Structure\n",
    "\n",
    "- $i$: industries, 1-5\n",
    "- $t$: regions, 1-7\n",
    "- Each single observation is indexed by $(i,t)$:\n",
    "$$\n",
    "x_{i,t} = x_i + x_t + e_{i,t}\n",
    "$$"
   ]
  },
  {
   "attachments": {},
   "cell_type": "markdown",
   "metadata": {},
   "source": [
    "# Test Statistic\n",
    "\n",
    "First, we generate the matrix $R$ defined in equation (1) of the paper from random values. We go with some random data. "
   ]
  },
  {
   "cell_type": "code",
   "execution_count": 694,
   "metadata": {},
   "outputs": [],
   "source": [
    "import importlib\n",
    "\n",
    "if importlib.util.find_spec('numpy') is None:\n",
    "    !pip3 install numpy\n",
    "\n",
    "if importlib.util.find_spec('scipy') is None:\n",
    "    !pip3 install scipy\n",
    "\n",
    "import numpy as np\n",
    "from scipy.stats import chi2"
   ]
  },
  {
   "cell_type": "code",
   "execution_count": 695,
   "metadata": {},
   "outputs": [],
   "source": [
    "p = 5\n",
    "k = 7\n",
    "n = 1\n",
    "\n",
    "f_sq = 0\n",
    "for i in range(n):\n",
    "    Vi = np.random.rand(p, 1)\n",
    "    Zi = np.random.rand(k, 1)\n",
    "    fi = np.kron(Vi,Zi) # 35*1\n",
    "    f_sq += np.dot(fi,fi.T) # 35*35\n",
    "\n",
    "R = f_sq/n # 35*35"
   ]
  },
  {
   "attachments": {},
   "cell_type": "markdown",
   "metadata": {},
   "source": [
    "Then we stack $R$ to $\\mathcal{R}(R)$ defined in equation (5)."
   ]
  },
  {
   "cell_type": "code",
   "execution_count": 696,
   "metadata": {},
   "outputs": [],
   "source": [
    "R_cal = np.empty([p ** 2, k ** 2])\n",
    "for i in range(1,p):\n",
    "    for j in range(1,p):\n",
    "        block_ij = R[((i-1)*k):(i*k), ((j-1)*k):(j*k)] # k*k     \n",
    "        vector_ij = block_ij.flatten(order='F') # k^2*1\n",
    "        R_cal[(j-1)*p+i-1,:] = vector_ij # the p-th row"
   ]
  },
  {
   "attachments": {},
   "cell_type": "markdown",
   "metadata": {},
   "source": [
    "from which we can perform the singular value decomposition (equation (9) in the paper):"
   ]
  },
  {
   "cell_type": "code",
   "execution_count": 697,
   "metadata": {},
   "outputs": [
    {
     "ename": "LinAlgError",
     "evalue": "SVD did not converge",
     "output_type": "error",
     "traceback": [
      "\u001b[0;31m---------------------------------------------------------------------------\u001b[0m",
      "\u001b[0;31mLinAlgError\u001b[0m                               Traceback (most recent call last)",
      "Cell \u001b[0;32mIn[697], line 1\u001b[0m\n\u001b[0;32m----> 1\u001b[0m L, Sigma_v, Nt \u001b[39m=\u001b[39m np\u001b[39m.\u001b[39;49mlinalg\u001b[39m.\u001b[39;49msvd(R_cal)\n\u001b[1;32m      2\u001b[0m Sigma \u001b[39m=\u001b[39m np\u001b[39m.\u001b[39mdiag(Sigma_v)\n\u001b[1;32m      3\u001b[0m N \u001b[39m=\u001b[39m Nt\u001b[39m.\u001b[39mT\n",
      "File \u001b[0;32m<__array_function__ internals>:200\u001b[0m, in \u001b[0;36msvd\u001b[0;34m(*args, **kwargs)\u001b[0m\n",
      "File \u001b[0;32m/opt/homebrew/lib/python3.11/site-packages/numpy/linalg/linalg.py:1642\u001b[0m, in \u001b[0;36msvd\u001b[0;34m(a, full_matrices, compute_uv, hermitian)\u001b[0m\n\u001b[1;32m   1639\u001b[0m         gufunc \u001b[39m=\u001b[39m _umath_linalg\u001b[39m.\u001b[39msvd_n_s\n\u001b[1;32m   1641\u001b[0m signature \u001b[39m=\u001b[39m \u001b[39m'\u001b[39m\u001b[39mD->DdD\u001b[39m\u001b[39m'\u001b[39m \u001b[39mif\u001b[39;00m isComplexType(t) \u001b[39melse\u001b[39;00m \u001b[39m'\u001b[39m\u001b[39md->ddd\u001b[39m\u001b[39m'\u001b[39m\n\u001b[0;32m-> 1642\u001b[0m u, s, vh \u001b[39m=\u001b[39m gufunc(a, signature\u001b[39m=\u001b[39;49msignature, extobj\u001b[39m=\u001b[39;49mextobj)\n\u001b[1;32m   1643\u001b[0m u \u001b[39m=\u001b[39m u\u001b[39m.\u001b[39mastype(result_t, copy\u001b[39m=\u001b[39m\u001b[39mFalse\u001b[39;00m)\n\u001b[1;32m   1644\u001b[0m s \u001b[39m=\u001b[39m s\u001b[39m.\u001b[39mastype(_realType(result_t), copy\u001b[39m=\u001b[39m\u001b[39mFalse\u001b[39;00m)\n",
      "File \u001b[0;32m/opt/homebrew/lib/python3.11/site-packages/numpy/linalg/linalg.py:98\u001b[0m, in \u001b[0;36m_raise_linalgerror_svd_nonconvergence\u001b[0;34m(err, flag)\u001b[0m\n\u001b[1;32m     97\u001b[0m \u001b[39mdef\u001b[39;00m \u001b[39m_raise_linalgerror_svd_nonconvergence\u001b[39m(err, flag):\n\u001b[0;32m---> 98\u001b[0m     \u001b[39mraise\u001b[39;00m LinAlgError(\u001b[39m\"\u001b[39m\u001b[39mSVD did not converge\u001b[39m\u001b[39m\"\u001b[39m)\n",
      "\u001b[0;31mLinAlgError\u001b[0m: SVD did not converge"
     ]
    }
   ],
   "source": [
    "L, Sigma_v, Nt = np.linalg.svd(R_cal)\n",
    "Sigma = np.diag(Sigma_v)\n",
    "N = Nt.T\n",
    "\n",
    "length = max(np.shape(L),np.shape(N))[0]\n",
    "width = min(np.shape(L),np.shape(N))[0]\n",
    "diff = length - width \n",
    "\n",
    "happend = np.zeros([diff+1, diff])\n",
    "vappend = np.zeros([diff, diff+1])\n",
    "\n",
    "if np.shape(L)[0] > np.shape(N)[0]:\n",
    "  Sigma = np.vstack((Sigma, vappend))\n",
    "elif np.shape(L)[0] < np.shape(N)[0]:\n",
    "  Sigma = np.hstack((Sigma, happend))"
   ]
  },
  {
   "attachments": {},
   "cell_type": "markdown",
   "metadata": {},
   "source": [
    "and obtain the components of the KPST"
   ]
  },
  {
   "cell_type": "code",
   "execution_count": null,
   "metadata": {},
   "outputs": [],
   "source": [
    "L2 = np.delete(L, 0, 1)\n",
    "Sigma2 = np.delete(Sigma, 0, 1)\n",
    "Sigma2 = np.delete(Sigma2, 0, 0)\n",
    "N2 = np.delete(N, 0, 1)\n",
    "\n",
    "vec_R_cal = R_cal.flatten(order='F')\n",
    "V = np.outer(vec_R_cal.T,vec_R_cal.T)"
   ]
  },
  {
   "attachments": {},
   "cell_type": "markdown",
   "metadata": {},
   "source": [
    "Now we can calculate KPST based on equation (22):"
   ]
  },
  {
   "cell_type": "code",
   "execution_count": null,
   "metadata": {},
   "outputs": [],
   "source": [
    "K1 = Sigma2.flatten(order='F') \n",
    "\n",
    "K2 = np.kron(N2,L2).T@V@np.kron(N2,L2)\n",
    "\n",
    "KPST = n* K1.T @np.linalg.inv(K2) @K1"
   ]
  },
  {
   "attachments": {},
   "cell_type": "markdown",
   "metadata": {},
   "source": [
    "# Example"
   ]
  },
  {
   "attachments": {},
   "cell_type": "markdown",
   "metadata": {},
   "source": [
    "Now we have the KPST statistic in hand, we compare it with $\\chi^2(df,1-\\alpha)$, where the degree of freedom $df$ is calculated using equation (25)."
   ]
  },
  {
   "cell_type": "code",
   "execution_count": null,
   "metadata": {},
   "outputs": [],
   "source": [
    "## Put all the previous steps in a function\n",
    "\n",
    "def kpst(p=5,k=7,n=30):\n",
    "   \n",
    "   f_sq = 0\n",
    "   \n",
    "   for i in range(n):\n",
    "      Vi = np.random.rand(p, 1)\n",
    "      Zi = np.random.rand(k, 1)\n",
    "      fi = np.kron(Vi,Zi) # 35*1\n",
    "      f_sq += np.dot(fi,fi.T) # 35*35\n",
    "  \n",
    "   R = f_sq/n # 35*35\n",
    "   \n",
    "   R_cal = np.empty([p ** 2, k ** 2])\n",
    "   \n",
    "   for i in range(1,p):\n",
    "    for j in range(1,p):\n",
    "        block_ij = R[((i-1)*k):(i*k), ((j-1)*k):(j*k)] # k*k     \n",
    "        vector_ij = block_ij.flatten(order='F') # k^2*1\n",
    "        R_cal[(j-1)*p+i-1,:] = vector_ij # the p-th row\n",
    "        \n",
    "   L, Sigma_v, Nt = np.linalg.svd(R_cal)\n",
    "   Sigma = np.diag(Sigma_v)\n",
    "   N = Nt.T\n",
    "   \n",
    "   length = max(np.shape(L),np.shape(N))[0]\n",
    "   width = min(np.shape(L),np.shape(N))[0]\n",
    "   diff = length - width \n",
    "   \n",
    "   happend = np.zeros([diff+1, diff])\n",
    "   vappend = np.zeros([diff, diff+1])\n",
    "   \n",
    "   if np.shape(L)[0] > np.shape(N)[0]:\n",
    "    Sigma = np.vstack((Sigma, vappend))\n",
    "   elif np.shape(L)[0] < np.shape(N)[0]:\n",
    "    Sigma = np.hstack((Sigma, happend))\n",
    "  \n",
    "   L2 = np.delete(L, 0, 1)\n",
    "   Sigma2 = np.delete(Sigma, 0, 1)\n",
    "   Sigma2 = np.delete(Sigma2, 0, 0)\n",
    "   N2 = np.delete(N, 0, 1)\n",
    "   vec_R_cal = R_cal.flatten(order='F')\n",
    "   V = np.outer(vec_R_cal.T,vec_R_cal.T)\n",
    "\n",
    "   K1 = Sigma2.flatten(order='F') \n",
    "   K2 = np.kron(N2,L2).T@V@np.kron(N2,L2)\n",
    "   KPST = n* K1.T @np.linalg.inv(K2) @K1\n",
    "   return KPST\n",
    "\n",
    "## Function that returns the degree of freedom\n",
    "def dof(p,k):\n",
    "  dof = (0.5*k*(k+1)-1)*(0.5*p*(p+1)-1)\n",
    "  return dof"
   ]
  },
  {
   "attachments": {},
   "cell_type": "markdown",
   "metadata": {},
   "source": [
    "Let's try performing the test:"
   ]
  },
  {
   "cell_type": "code",
   "execution_count": null,
   "metadata": {},
   "outputs": [
    {
     "name": "stdout",
     "output_type": "stream",
     "text": [
      "We can't reject the null that R has KPS at nominal size 0.05. We conclude that R has KPS.\n"
     ]
    }
   ],
   "source": [
    "kpst_obs = []\n",
    "\n",
    "## Use a loop to deal with the case of not-inversible matrix\n",
    "while len(kpst_obs) < 1:\n",
    "    new_value = kpst(p=5,k=7,n=30)\n",
    "    if ~np.isnan(new_value):\n",
    "        kpst_obs.append(new_value) \n",
    "\n",
    "## But there is still possibility of non-convergence of SVD, just rerun the code on error\n",
    "\n",
    "## Test\n",
    "if kpst_obs[0] < chi2.ppf(1-.05, dof(p=5,k=7)):\n",
    "    print(\"We can't reject the null that R has KPS at nominal size 0.05. We conclude that R has KPS.\")\n",
    "else: \n",
    "    print(\"We reject the null that R has KPS at nominal size 0.05. We conclude that R doesn't has KPS.\")"
   ]
  }
 ],
 "metadata": {
  "kernelspec": {
   "display_name": "Python 3",
   "language": "python",
   "name": "python3"
  },
  "language_info": {
   "codemirror_mode": {
    "name": "ipython",
    "version": 3
   },
   "file_extension": ".py",
   "mimetype": "text/x-python",
   "name": "python",
   "nbconvert_exporter": "python",
   "pygments_lexer": "ipython3",
   "version": "3.11.2"
  },
  "orig_nbformat": 4
 },
 "nbformat": 4,
 "nbformat_minor": 2
}
