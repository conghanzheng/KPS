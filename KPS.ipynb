{
 "cells": [
  {
   "attachments": {},
   "cell_type": "markdown",
   "metadata": {},
   "source": [
    "# Data Structure\n",
    "\n",
    "- $p$: number of industries\n",
    "- $k$: number of regions\n",
    "- $i$: time periods index, $i = 1, \\dots, n$\n",
    "- Your variable $x_i$ is observed for all individuals across all regions and is a $p \\times k$ cross-sectional matrix."
   ]
  },
  {
   "attachments": {},
   "cell_type": "markdown",
   "metadata": {},
   "source": [
    "# KPST Statistic"
   ]
  },
  {
   "cell_type": "code",
   "execution_count": 62,
   "metadata": {},
   "outputs": [],
   "source": [
    "import importlib\n",
    "\n",
    "if importlib.util.find_spec('pandas') is None:\n",
    "    !pip3 install pandas\n",
    "\n",
    "if importlib.util.find_spec('openpyxl') is None:\n",
    "    !pip3 install openpyxl\n",
    "\n",
    "if importlib.util.find_spec('numpy') is None:\n",
    "    !pip3 install numpy\n",
    "\n",
    "if importlib.util.find_spec('scipy') is None:\n",
    "    !pip3 install scipy\n",
    "\n",
    "import pandas as pd\n",
    "import numpy as np\n",
    "from scipy.stats import chi2"
   ]
  },
  {
   "cell_type": "code",
   "execution_count": 63,
   "metadata": {},
   "outputs": [],
   "source": [
    "## Function that calculates KPST\n",
    "\n",
    "def kpst(R,p,k,n):\n",
    "\n",
    "    R_cal = np.empty([p ** 2, k ** 2]) ## equation (5)\n",
    "    for i in range(1,p+1):\n",
    "        for j in range(1,p+1):\n",
    "            block_ij = R[((i-1)*k):(i*k), ((j-1)*k):(j*k)] # k*k     \n",
    "            vector_ij = block_ij.flatten(order='F') # k^2*1\n",
    "            R_cal[(j-1)*p+i-1,:] = vector_ij # the p-th row\n",
    "        \n",
    "    L, Sigma_v, Nt = np.linalg.svd(R_cal) ## equation (9)\n",
    "    Sigma = np.diag(Sigma_v)\n",
    "    N = Nt.T\n",
    "\n",
    "    length = max(np.shape(L),np.shape(N))[0]\n",
    "    width = min(np.shape(L),np.shape(N))[0]\n",
    "    diff = length - width \n",
    "\n",
    "    happend = np.zeros([np.shape(Sigma)[0], diff])\n",
    "    vappend = np.zeros([diff, np.shape(Sigma)[0]])\n",
    "\n",
    "    if np.shape(L)[0] > np.shape(N)[0]:\n",
    "        Sigma = np.vstack((Sigma, vappend))\n",
    "    elif np.shape(L)[0] < np.shape(N)[0]:\n",
    "        Sigma = np.hstack((Sigma, happend))\n",
    "  \n",
    "    ## Components of the KPST\n",
    "    L2 = np.delete(L, 0, 1)\n",
    "    Sigma2 = np.delete(Sigma, 0, 1)\n",
    "    Sigma2 = np.delete(Sigma2, 0, 0)\n",
    "    N2 = np.delete(N, 0, 1)\n",
    "\n",
    "    vec_R_cal = R_cal.flatten(order='F')\n",
    "    V = np.outer(vec_R_cal.T,vec_R_cal.T)\n",
    "\n",
    "    ## equation (22)\n",
    "    K1 = Sigma2.flatten(order='F') \n",
    "    K2 = np.kron(N2,L2).T @ V @ np.kron(N2,L2)\n",
    "    KPST = n* K1.T @ np.linalg.inv(K2) @ K1\n",
    "    return p, k, KPST"
   ]
  },
  {
   "cell_type": "code",
   "execution_count": 64,
   "metadata": {},
   "outputs": [],
   "source": [
    "## Function that returns the degree of freedom\n",
    "def dof(p,k):\n",
    "  dof = (0.5*k*(k+1)-1)*(0.5*p*(p+1)-1) ## equation (25)\n",
    "  return dof"
   ]
  },
  {
   "attachments": {},
   "cell_type": "markdown",
   "metadata": {},
   "source": [
    "# Test\n",
    "\n",
    "The idea is that we calculate the KPST statistic, and compare it with $\\chi^2(df,1-\\alpha)$, where $df$ is the degree of freedom."
   ]
  },
  {
   "cell_type": "code",
   "execution_count": 65,
   "metadata": {},
   "outputs": [
    {
     "name": "stdout",
     "output_type": "stream",
     "text": [
      "KPST =  62324.39710991565  chi2(df,0.05) =  674.8486013894582  \n",
      " We reject the null that R has KPS at nominal size 0.05. \n",
      " We conclude that R doesn't has KPS.\n"
     ]
    }
   ],
   "source": [
    "## Import data\n",
    "import sys\n",
    "scriptpath = sys.path[0]\n",
    "\n",
    "import os\n",
    "R_xlsx = pd.read_excel(os.path.join(scriptpath, 'Correlations_2022.xlsx'))\n",
    "R = np.array(R_xlsx)\n",
    "\n",
    "## There is possibility of not-inversible matrix and non-convergence of SVD caused by random data, just rerun the code on error.\n",
    "p, k, kpst = kpst(R = R, p = 5, k = 9, n = 365)\n",
    "\n",
    "## Test\n",
    "if kpst < chi2.ppf(1-.05, dof(p,k)):\n",
    "    print(\"KPST = \",kpst,\" chi2(df,0.05) = \",chi2.ppf(1-.05, dof(p,k)),\" \\n We can't reject the null that R has KPS at nominal size 0.05. \\n  We conclude that R has KPS.\")\n",
    "else: \n",
    "    print(\"KPST = \",kpst,\" chi2(df,0.05) = \",chi2.ppf(1-.05, dof(p,k)),\" \\n We reject the null that R has KPS at nominal size 0.05. \\n We conclude that R doesn't has KPS.\")"
   ]
  }
 ],
 "metadata": {
  "kernelspec": {
   "display_name": "Python 3",
   "language": "python",
   "name": "python3"
  },
  "language_info": {
   "codemirror_mode": {
    "name": "ipython",
    "version": 3
   },
   "file_extension": ".py",
   "mimetype": "text/x-python",
   "name": "python",
   "nbconvert_exporter": "python",
   "pygments_lexer": "ipython3",
   "version": "3.11.2"
  },
  "orig_nbformat": 4
 },
 "nbformat": 4,
 "nbformat_minor": 2
}
