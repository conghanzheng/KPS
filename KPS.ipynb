{
 "cells": [
  {
   "attachments": {},
   "cell_type": "markdown",
   "metadata": {},
   "source": [
    "# Data Structure\n",
    "\n",
    "- $p$: number of industries\n",
    "- $k$: number of regions\n",
    "- $i$: time periods index, $i = 1, \\dots, n$\n",
    "- Your variable $x_i$ is observed for all individuals across all regions and is a $p \\times k$ cross-sectional matrix."
   ]
  },
  {
   "attachments": {},
   "cell_type": "markdown",
   "metadata": {},
   "source": [
    "# KPST Statistic"
   ]
  },
  {
   "cell_type": "code",
   "execution_count": 99,
   "metadata": {},
   "outputs": [],
   "source": [
    "import importlib\n",
    "\n",
    "if importlib.util.find_spec('numpy') is None:\n",
    "    !pip3 install numpy\n",
    "\n",
    "if importlib.util.find_spec('scipy') is None:\n",
    "    !pip3 install scipy\n",
    "\n",
    "import numpy as np\n",
    "from scipy.stats import chi2"
   ]
  },
  {
   "cell_type": "code",
   "execution_count": 100,
   "metadata": {},
   "outputs": [],
   "source": [
    "## Function that calculates KPST\n",
    "\n",
    "def kpst(x=[np.random.rand(5, 7),np.random.rand(5, 7)]):\n",
    "\n",
    "    if isinstance(x, list): ## if there are many cross-sections\n",
    "        p = np.shape(x[1])[0] ## get p,k from data, we need all cross-sections have the same dimension (same p and k)\n",
    "        k = np.shape(x[1])[1] ## get p,k from data\n",
    "        n = len(x)\n",
    "        f_sq = 0\n",
    "        for xi in x:\n",
    "            fi = np.reshape(xi.flatten(order='F'), (p*k, 1)) ## pk*1\n",
    "            f_sq += np.dot(fi,fi.T) ## pk*pk\n",
    "        R = f_sq/n ## pk*pk, equation (1)\n",
    "    else: \n",
    "        p = np.shape(x)[0] ## get p,k from data\n",
    "        k = np.shape(x)[1] ## get p,k from data\n",
    "        fi = np.reshape(x.flatten(order='F'), (p*k, 1)) ## pk*1\n",
    "        R = np.dot(fi,fi.T)\n",
    "        n = 1\n",
    "\n",
    "    R_cal = np.empty([p ** 2, k ** 2]) ## equation (5)\n",
    "    for i in range(1,p+1):\n",
    "        for j in range(1,p+1):\n",
    "            block_ij = R[((i-1)*k):(i*k), ((j-1)*k):(j*k)] # k*k     \n",
    "            vector_ij = block_ij.flatten(order='F') # k^2*1\n",
    "            R_cal[(j-1)*p+i-1,:] = vector_ij # the p-th row\n",
    "        \n",
    "    L, Sigma_v, Nt = np.linalg.svd(R_cal) ## equation (9)\n",
    "    Sigma = np.diag(Sigma_v)\n",
    "    N = Nt.T\n",
    "\n",
    "    length = max(np.shape(L),np.shape(N))[0]\n",
    "    width = min(np.shape(L),np.shape(N))[0]\n",
    "    diff = length - width \n",
    "\n",
    "    happend = np.zeros([np.shape(Sigma)[0], diff])\n",
    "    vappend = np.zeros([diff, np.shape(Sigma)[0]])\n",
    "\n",
    "    if np.shape(L)[0] > np.shape(N)[0]:\n",
    "        Sigma = np.vstack((Sigma, vappend))\n",
    "    elif np.shape(L)[0] < np.shape(N)[0]:\n",
    "        Sigma = np.hstack((Sigma, happend))\n",
    "  \n",
    "    ## Components of the KPST\n",
    "    L2 = np.delete(L, 0, 1)\n",
    "    Sigma2 = np.delete(Sigma, 0, 1)\n",
    "    Sigma2 = np.delete(Sigma2, 0, 0)\n",
    "    N2 = np.delete(N, 0, 1)\n",
    "\n",
    "    vec_R_cal = R_cal.flatten(order='F')\n",
    "    V = np.outer(vec_R_cal.T,vec_R_cal.T)\n",
    "\n",
    "    ## equation (22)\n",
    "    K1 = Sigma2.flatten(order='F') \n",
    "    K2 = np.kron(N2,L2).T@V@np.kron(N2,L2)\n",
    "    KPST = n* K1.T @np.linalg.inv(K2) @K1\n",
    "    return p, k, KPST"
   ]
  },
  {
   "cell_type": "code",
   "execution_count": 101,
   "metadata": {},
   "outputs": [],
   "source": [
    "## Function that returns the degree of freedom\n",
    "def dof(p,k):\n",
    "  dof = (0.5*k*(k+1)-1)*(0.5*p*(p+1)-1) ## equation (25)\n",
    "  return dof"
   ]
  },
  {
   "attachments": {},
   "cell_type": "markdown",
   "metadata": {},
   "source": [
    "# Test\n",
    "\n",
    "The idea is that we calculate the KPST statistic, and compare it with $\\chi^2(df,1-\\alpha)$, where $df$ is the degree of freedom."
   ]
  },
  {
   "cell_type": "code",
   "execution_count": 102,
   "metadata": {},
   "outputs": [
    {
     "name": "stdout",
     "output_type": "stream",
     "text": [
      "We can't reject the null that R has KPS at nominal size 0.05. We conclude that R has KPS.\n"
     ]
    }
   ],
   "source": [
    "x = [np.random.rand(5, 7), np.random.rand(5, 7), np.random.rand(5, 7)] ## input data here\n",
    "\n",
    "## There is possibility of not-inversible matrix and non-convergence of SVD caused by random data, just rerun the code on error.\n",
    "p, k, kpst = kpst(x)\n",
    "\n",
    "## Test\n",
    "if kpst < chi2.ppf(1-.05, dof(p,k)):\n",
    "    print(\"We can't reject the null that R has KPS at nominal size 0.05. We conclude that R has KPS.\")\n",
    "else: \n",
    "    print(\"We reject the null that R has KPS at nominal size 0.05. We conclude that R doesn't has KPS.\")"
   ]
  }
 ],
 "metadata": {
  "kernelspec": {
   "display_name": "Python 3",
   "language": "python",
   "name": "python3"
  },
  "language_info": {
   "codemirror_mode": {
    "name": "ipython",
    "version": 3
   },
   "file_extension": ".py",
   "mimetype": "text/x-python",
   "name": "python",
   "nbconvert_exporter": "python",
   "pygments_lexer": "ipython3",
   "version": "3.11.2"
  },
  "orig_nbformat": 4
 },
 "nbformat": 4,
 "nbformat_minor": 2
}
