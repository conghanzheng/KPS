{
 "cells": [
  {
   "attachments": {},
   "cell_type": "markdown",
   "metadata": {},
   "source": [
    "# Data Structure\n",
    "\n",
    "- $p$: number of industries\n",
    "- $k$: number of regions\n",
    "- $i$: time periods index, $i = 1, \\dots, n$\n",
    "- Your variable $x_i$ is observed for all individuals across all regions and is a $p \\times k$ cross-sectional matrix."
   ]
  },
  {
   "attachments": {},
   "cell_type": "markdown",
   "metadata": {},
   "source": [
    "# KPST Statistic"
   ]
  },
  {
   "cell_type": "code",
   "execution_count": 2,
   "metadata": {},
   "outputs": [],
   "source": [
    "import importlib\n",
    "\n",
    "if importlib.util.find_spec('pandas') is None:\n",
    "    !pip3 install pandas\n",
    "\n",
    "if importlib.util.find_spec('numpy') is None:\n",
    "    !pip3 install numpy\n",
    "\n",
    "if importlib.util.find_spec('scipy') is None:\n",
    "    !pip3 install scipy\n",
    "\n",
    "import pandas as pd\n",
    "import numpy as np\n",
    "from scipy.stats import chi2"
   ]
  },
  {
   "cell_type": "code",
   "execution_count": 3,
   "metadata": {},
   "outputs": [],
   "source": [
    "## Function that calculates KPST\n",
    "\n",
    "def kpst(x=[np.random.rand(5, 7),np.random.rand(5, 7)]):\n",
    "\n",
    "    if isinstance(x, list): ## if there are many cross-sections\n",
    "        p = np.shape(x[0])[0] ## get p,k from data, we need all cross-sections have the same dimension (same p and k)\n",
    "        k = np.shape(x[0])[1] ## get p,k from data\n",
    "        n = len(x)\n",
    "        f_sq = 0\n",
    "        for xi in x:\n",
    "            fi = np.reshape(xi.flatten(order='F'), (p*k, 1)) ## pk*1\n",
    "            f_sq += np.dot(fi,fi.T) ## pk*pk\n",
    "        R = f_sq/n ## pk*pk, equation (1)\n",
    "    else: \n",
    "        p = np.shape(x)[0] ## get p,k from data\n",
    "        k = np.shape(x)[1] ## get p,k from data\n",
    "        fi = np.reshape(x.flatten(order='F'), (p*k, 1)) ## pk*1\n",
    "        R = np.dot(fi,fi.T)\n",
    "        n = 1\n",
    "\n",
    "    R_cal = np.empty([p ** 2, k ** 2]) ## equation (5)\n",
    "    for i in range(1,p+1):\n",
    "        for j in range(1,p+1):\n",
    "            block_ij = R[((i-1)*k):(i*k), ((j-1)*k):(j*k)] # k*k     \n",
    "            vector_ij = block_ij.flatten(order='F') # k^2*1\n",
    "            R_cal[(j-1)*p+i-1,:] = vector_ij # the p-th row\n",
    "        \n",
    "    L, Sigma_v, Nt = np.linalg.svd(R_cal) ## equation (9)\n",
    "    Sigma = np.diag(Sigma_v)\n",
    "    N = Nt.T\n",
    "\n",
    "    length = max(np.shape(L),np.shape(N))[0]\n",
    "    width = min(np.shape(L),np.shape(N))[0]\n",
    "    diff = length - width \n",
    "\n",
    "    happend = np.zeros([np.shape(Sigma)[0], diff])\n",
    "    vappend = np.zeros([diff, np.shape(Sigma)[0]])\n",
    "\n",
    "    if np.shape(L)[0] > np.shape(N)[0]:\n",
    "        Sigma = np.vstack((Sigma, vappend))\n",
    "    elif np.shape(L)[0] < np.shape(N)[0]:\n",
    "        Sigma = np.hstack((Sigma, happend))\n",
    "  \n",
    "    ## Components of the KPST\n",
    "    L2 = np.delete(L, 0, 1)\n",
    "    Sigma2 = np.delete(Sigma, 0, 1)\n",
    "    Sigma2 = np.delete(Sigma2, 0, 0)\n",
    "    N2 = np.delete(N, 0, 1)\n",
    "\n",
    "    vec_R_cal = R_cal.flatten(order='F')\n",
    "    V = np.outer(vec_R_cal.T,vec_R_cal.T)\n",
    "\n",
    "    ## equation (22)\n",
    "    K1 = Sigma2.flatten(order='F') \n",
    "    K2 = np.kron(N2,L2).T@V@np.kron(N2,L2)\n",
    "    KPST = n* K1.T @np.linalg.inv(K2) @K1\n",
    "    return p, k, KPST"
   ]
  },
  {
   "cell_type": "code",
   "execution_count": 4,
   "metadata": {},
   "outputs": [],
   "source": [
    "## Function that returns the degree of freedom\n",
    "def dof(p,k):\n",
    "  dof = (0.5*k*(k+1)-1)*(0.5*p*(p+1)-1) ## equation (25)\n",
    "  return dof"
   ]
  },
  {
   "attachments": {},
   "cell_type": "markdown",
   "metadata": {},
   "source": [
    "# Test\n",
    "\n",
    "The idea is that we calculate the KPST statistic, and compare it with $\\chi^2(df,1-\\alpha)$, where $df$ is the degree of freedom."
   ]
  },
  {
   "cell_type": "code",
   "execution_count": 15,
   "metadata": {},
   "outputs": [
    {
     "name": "stdout",
     "output_type": "stream",
     "text": [
      "Data: \n",
      "      Industry  Region  Period         x\n",
      "0         1.0     1.0     1.0  2.751351\n",
      "1         1.0     1.0     2.0  1.457992\n",
      "2         1.0     1.0     3.0  3.581079\n",
      "3         1.0     1.0     4.0  5.763711\n",
      "4         1.0     1.0     5.0  7.444638\n",
      "..        ...     ...     ...       ...\n",
      "345       5.0     7.0     6.0  7.005508\n",
      "346       5.0     7.0     7.0  9.373509\n",
      "347       5.0     7.0     8.0  4.396111\n",
      "348       5.0     7.0     9.0  0.583666\n",
      "349       5.0     7.0    10.0  5.490981\n",
      "\n",
      "[350 rows x 4 columns]\n"
     ]
    }
   ],
   "source": [
    "p_input = 5\n",
    "k_input = 7\n",
    "t_input = 10\n",
    "\n",
    "## long-form data\n",
    "x_long = np.array([(p, k, t) for p in range(1,p_input+1) for k in range(1,k_input+1) for t in range(1,t_input+1)])\n",
    "\n",
    "x_array = np.column_stack((x_long, np.random.rand(x_long.shape[0]) * 10 ))\n",
    "\n",
    "x_df = pd.DataFrame(x_array, columns = ['Industry','Region','Period','x'])\n",
    "print(\"Data: \\n\",x_df)\n",
    "\n",
    "## a list of 10 matrices, each of them is a p*k cross-section\n",
    "x_list = []\n",
    "for t in range(1,t_input+1):\n",
    "    xt = x_array[np.where(x_array[:,2] == t),3] ## 35*1\n",
    "    xt_wide = xt.reshape(5, 7) ## reshape long to wide: 5*7\n",
    "    x_list.append(xt_wide)"
   ]
  },
  {
   "cell_type": "code",
   "execution_count": 16,
   "metadata": {},
   "outputs": [
    {
     "name": "stdout",
     "output_type": "stream",
     "text": [
      "We can't reject the null that R has KPS at nominal size 0.05. We conclude that R has KPS.\n"
     ]
    }
   ],
   "source": [
    "## There is possibility of not-inversible matrix and non-convergence of SVD caused by random data, just rerun the code on error.\n",
    "p, k, kpst = kpst(x_list)\n",
    "\n",
    "## Test\n",
    "if kpst < chi2.ppf(1-.05, dof(p,k)):\n",
    "    print(\"We can't reject the null that R has KPS at nominal size 0.05. We conclude that R has KPS.\")\n",
    "else: \n",
    "    print(\"We reject the null that R has KPS at nominal size 0.05. We conclude that R doesn't has KPS.\")"
   ]
  }
 ],
 "metadata": {
  "kernelspec": {
   "display_name": "Python 3",
   "language": "python",
   "name": "python3"
  },
  "language_info": {
   "codemirror_mode": {
    "name": "ipython",
    "version": 3
   },
   "file_extension": ".py",
   "mimetype": "text/x-python",
   "name": "python",
   "nbconvert_exporter": "python",
   "pygments_lexer": "ipython3",
   "version": "3.11.2"
  },
  "orig_nbformat": 4
 },
 "nbformat": 4,
 "nbformat_minor": 2
}
